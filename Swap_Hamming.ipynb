{
 "cells": [
  {
   "cell_type": "code",
   "execution_count": 1,
   "metadata": {},
   "outputs": [],
   "source": [
    "from qiskit import QuantumCircuit, transpile, Aer, assemble, execute\n",
    "from qiskit.visualization import array_to_latex\n",
    "from qiskit.visualization import plot_bloch_multivector\n",
    "import numpy as np"
   ]
  },
  {
   "cell_type": "code",
   "execution_count": null,
   "metadata": {},
   "outputs": [],
   "source": [
    "qc = QuantumCircuit(2)\n",
    "qc.y(0)\n",
    "theta = 30  # Angle in degrees\n",
    "theta_radians = np.deg2rad(theta)\n",
    "qc.rx(theta_radians, 0) "
   ]
  },
  {
   "cell_type": "code",
   "execution_count": null,
   "metadata": {},
   "outputs": [],
   "source": [
    "simulator = Aer.get_backend('statevector_simulator')\n",
    "job = assemble(transpile(qc, simulator))\n",
    "result = simulator.run(job).result()\n",
    "statevector = result.get_statevector()\n",
    "\n",
    "# Visualize the state vector of the circuit\n",
    "print(\"\\nFinal State Vector:\")\n",
    "print(statevector)\n",
    "\n",
    "# Plot the state vector on the Bloch sphere\n",
    "plot_bloch_multivector(statevector)"
   ]
  },
  {
   "cell_type": "code",
   "execution_count": 4,
   "metadata": {
    "scrolled": true
   },
   "outputs": [
    {
     "data": {
      "image/png": "[encoded data removed]",
      "text/plain": [
       "<Figure size 538.128x200.667 with 1 Axes>"
      ]
     },
     "execution_count": 4,
     "metadata": {},
     "output_type": "execute_result"
    }
   ],
   "source": [
    "#Implementing Swapping\n",
    "\n",
    "qc.cx(0,1)\n",
    "qc.cx(1,0)\n",
    "qc.cx(0,1)\n",
    "qc.draw(output='mpl')"
   ]
  },
  {
   "cell_type": "code",
   "execution_count": null,
   "metadata": {},
   "outputs": [],
   "source": [
    "simulator = Aer.get_backend('statevector_simulator')\n",
    "job = assemble(transpile(qc, simulator))\n",
    "result = simulator.run(job).result()\n",
    "statevector = result.get_statevector()\n",
    "\n",
    "# Visualize the state vector of the circuit\n",
    "print(\"\\nFinal State Vector:\")\n",
    "print(statevector)\n",
    "\n",
    "# Plot the state vector on the Bloch sphere\n",
    "plot_bloch_multivector(statevector)"
   ]
  },
  {
   "cell_type": "code",
   "execution_count": 6,
   "metadata": {},
   "outputs": [],
   "source": [
    "qc = QuantumCircuit(3)\n",
    "a = input()\n",
    "b = input()\n",
    "c = input()\n",
    "if a == '1':\n",
    "    qc.x(0)\n",
    "if b == '1':\n",
    "    qc.x(1)\n",
    "if c == '1':\n",
    "    qc.x(2)"
   ]
  },
  {
   "cell_type": "code",
   "execution_count": null,
   "metadata": {},
   "outputs": [],
   "source": [
    "simulator = Aer.get_backend('statevector_simulator')\n",
    "job = assemble(transpile(qc, simulator))\n",
    "result = simulator.run(job).result()\n",
    "statevector = result.get_statevector()\n",
    "\n",
    "# Visualize the state vector of the circuit\n",
    "print(\"\\nFinal State Vector:\")\n",
    "print(statevector)\n",
    "array_to_latex(statevector, prefix=\"\\\\text{Statevector = }\")"
   ]
  },
  {
   "cell_type": "code",
   "execution_count": null,
   "metadata": {},
   "outputs": [],
   "source": [
    "qc.ccx(0, 1, 2)\n",
    "qc.cx(0, 1)\n",
    "qc.x(0)\n",
    "qc.draw(output='mpl')"
   ]
  },
  {
   "cell_type": "code",
   "execution_count": null,
   "metadata": {},
   "outputs": [],
   "source": [
    "simulator = Aer.get_backend('statevector_simulator')\n",
    "job = assemble(transpile(qc, simulator))\n",
    "result = simulator.run(job).result()\n",
    "statevector = result.get_statevector()\n",
    "\n",
    "# Visualize the state vector of the circuit\n",
    "print(\"\\nFinal State Vector:\")\n",
    "print(statevector)\n",
    "array_to_latex(statevector, prefix=\"\\\\text{Statevector = }\")"
   ]
  },
  {
   "cell_type": "code",
   "execution_count": 10,
   "metadata": {},
   "outputs": [],
   "source": [
    "qc = QuantumCircuit(5, 5)\n",
    "a = input()\n",
    "b = input()\n",
    "c = input()\n",
    "if a == '1':\n",
    "    qc.x(0)\n",
    "if b == '1':\n",
    "    qc.x(1)\n",
    "if c == '1':\n",
    "    qc.x(2)"
   ]
  },
  {
   "cell_type": "code",
   "execution_count": 11,
   "metadata": {},
   "outputs": [
    {
     "data": {
      "image/png": "[encoded data removed]",
      "text/plain": [
       "<Figure size 705.552x535.111 with 1 Axes>"
      ]
     },
     "execution_count": 11,
     "metadata": {},
     "output_type": "execute_result"
    }
   ],
   "source": [
    "for i in range(3):\n",
    "    qc.ccx(i, 3, 4)\n",
    "    qc.cx(i, 3)\n",
    "qc.draw(output='mpl')"
   ]
  },
  {
   "cell_type": "code",
   "execution_count": null,
   "metadata": {},
   "outputs": [],
   "source": [
    "simulator = Aer.get_backend('statevector_simulator')\n",
    "job = assemble(transpile(qc, simulator))\n",
    "result = simulator.run(job).result()\n",
    "statevector = result.get_statevector()\n",
    "\n",
    "# Visualize the state vector of the circuit\n",
    "print(\"\\nFinal State Vector:\")\n",
    "print(statevector)\n",
    "array_to_latex(statevector, prefix=\"\\\\text{Statevector = }\")"
   ]
  },
  {
   "cell_type": "code",
   "execution_count": null,
   "metadata": {},
   "outputs": [],
   "source": [
    "qc.measure(range(5), range(5))\n",
    "backend = Aer.get_backend('qasm_simulator')\n",
    "result = execute(qc, backend).result()\n",
    "\n",
    "# Get the measurement result from the result object\n",
    "counts = result.get_counts()\n",
    "\n",
    "# Print the measurement result\n",
    "print(\"\\nMeasurement Result:\")\n",
    "print(counts)"
   ]
  }
 ],
 "metadata": {
  "kernelspec": {
   "display_name": "Python 3 (ipykernel)",
   "language": "python",
   "name": "python3"
  },
  "language_info": {
   "codemirror_mode": {
    "name": "ipython",
    "version": 3
   },
   "file_extension": ".py",
   "mimetype": "text/x-python",
   "name": "python",
   "nbconvert_exporter": "python",
   "pygments_lexer": "ipython3",
   "version": "3.11.4"
  }
 },
 "nbformat": 4,
 "nbformat_minor": 2
}
